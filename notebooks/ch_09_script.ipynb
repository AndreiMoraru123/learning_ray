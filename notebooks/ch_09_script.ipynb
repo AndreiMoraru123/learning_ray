{
 "cells": [
  {
   "cell_type": "markdown",
   "id": "2ef79a1b",
   "metadata": {},
   "source": [
    "# Chapter 9: Ray Clusters"
   ]
  },
  {
   "cell_type": "markdown",
   "id": "9d3c2101",
   "metadata": {},
   "source": [
    "\n",
    "You can run this notebook directly in\n",
    "[Colab](https://colab.research.google.com/github/maxpumperla/learning_ray/blob/main/notebooks/ch_09_script.ipynb).\n",
    "\n",
    "The book has been written for Ray 2.2.0,which at the time of writing has not\n",
    "officially been released yet. If you are reading this and this version is already\n",
    "available, you can install it using `pip install ray==2.2.0`. If not, you can\n",
    "use a nightly wheel (here for Python 3.7 on Linux):"
   ]
  },
  {
   "cell_type": "code",
   "execution_count": null,
   "id": "d3ef3732",
   "metadata": {},
   "outputs": [],
   "source": [
    "! pip install -U https://s3-us-west-2.amazonaws.com/ray-wheels/latest/ray-3.0.0.dev0-cp37-cp37m-manylinux2014_x86_64.whl"
   ]
  },
  {
   "cell_type": "markdown",
   "id": "6e53a63a",
   "metadata": {},
   "source": [
    "Should you not run this notebook in Colab and need another type of wheel, please\n",
    "refer to Ray's [installation instructions for nightlies](https://docs.ray.io/en/latest/ray-overview/installation.html#install-nightlies).\n",
    "\n",
    "For this chapter you will also need to install the following dependencies:"
   ]
  },
  {
   "cell_type": "code",
   "execution_count": null,
   "id": "c394ae92",
   "metadata": {},
   "outputs": [],
   "source": [
    "! pip install boto3"
   ]
  },
  {
   "cell_type": "code",
   "execution_count": null,
   "id": "c5973b61",
   "metadata": {
    "lines_to_next_cell": 2
   },
   "outputs": [],
   "source": [
    "# tag::cluster_connect[]\n",
    "\n",
    "import ray\n",
    "ray.init(address=\"auto\")\n",
    "print(ray.cluster_resources())\n",
    "\n",
    "\n",
    "@ray.remote\n",
    "def test():\n",
    "    return 12\n",
    "\n",
    "\n",
    "ray.get([test.remote() for i in range(12)])\n",
    "# end::cluster_connect[]"
   ]
  },
  {
   "cell_type": "code",
   "execution_count": null,
   "id": "bf397ccd",
   "metadata": {},
   "outputs": [],
   "source": [
    "# tag::ray_client[]\n",
    "import ray\n",
    "ray.init(address=\"ray://localhost:10001\")\n",
    "print(ray.cluster_resources())\n",
    "\n",
    "\n",
    "@ray.remote\n",
    "def test():\n",
    "    return 12\n",
    "\n",
    "\n",
    "ray.get([test.remote() for i in range(12)])\n",
    "# end::ray_client[]"
   ]
  }
 ],
 "metadata": {
  "jupytext": {
   "cell_metadata_filter": "-all",
   "main_language": "python",
   "notebook_metadata_filter": "-all"
  }
 },
 "nbformat": 4,
 "nbformat_minor": 5
}
