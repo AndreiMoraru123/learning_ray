{
 "cells": [
  {
   "cell_type": "markdown",
   "id": "ff5d15cd",
   "metadata": {},
   "source": [
    "tag::cluster_connect[]"
   ]
  },
  {
   "cell_type": "code",
   "execution_count": null,
   "id": "5d394ab5",
   "metadata": {},
   "outputs": [],
   "source": [
    "import ray\n",
    "ray.init(address=\"auto\")\n",
    "print(ray.cluster_resources())"
   ]
  },
  {
   "cell_type": "code",
   "execution_count": null,
   "id": "01f21acf",
   "metadata": {},
   "outputs": [],
   "source": [
    "@ray.remote\n",
    "def test():\n",
    "    return 12"
   ]
  },
  {
   "cell_type": "code",
   "execution_count": null,
   "id": "28e1426b",
   "metadata": {
    "lines_to_next_cell": 2
   },
   "outputs": [],
   "source": [
    "ray.get([test.remote() for i in range(12)])\n",
    "# end::cluster_connect[]"
   ]
  },
  {
   "cell_type": "code",
   "execution_count": null,
   "id": "921139db",
   "metadata": {},
   "outputs": [],
   "source": [
    "# tag::ray_client[]\n",
    "import ray\n",
    "ray.init(address=\"ray://localhost:10001\")\n",
    "print(ray.cluster_resources())"
   ]
  },
  {
   "cell_type": "code",
   "execution_count": null,
   "id": "39150a40",
   "metadata": {},
   "outputs": [],
   "source": [
    "@ray.remote\n",
    "def test():\n",
    "    return 12"
   ]
  },
  {
   "cell_type": "code",
   "execution_count": null,
   "id": "2ff37c41",
   "metadata": {},
   "outputs": [],
   "source": [
    "ray.get([test.remote() for i in range(12)])\n",
    "# end::ray_client[]"
   ]
  }
 ],
 "metadata": {
  "jupytext": {
   "cell_metadata_filter": "-all",
   "main_language": "python",
   "notebook_metadata_filter": "-all"
  }
 },
 "nbformat": 4,
 "nbformat_minor": 5
}
