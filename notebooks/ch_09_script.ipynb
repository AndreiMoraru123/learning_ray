{
 "cells": [
  {
   "cell_type": "markdown",
   "id": "6a66312c",
   "metadata": {},
   "source": [
    "tag::cluster_connect[]"
   ]
  },
  {
   "cell_type": "code",
   "execution_count": null,
   "id": "c96a72fd",
   "metadata": {},
   "outputs": [],
   "source": [
    "import ray\n",
    "ray.init(address=\"auto\")\n",
    "print(ray.cluster_resources())"
   ]
  },
  {
   "cell_type": "code",
   "execution_count": null,
   "id": "82665304",
   "metadata": {},
   "outputs": [],
   "source": [
    "@ray.remote\n",
    "def test():\n",
    "    return 12"
   ]
  },
  {
   "cell_type": "code",
   "execution_count": null,
   "id": "bbca8d2a",
   "metadata": {
    "lines_to_next_cell": 2
   },
   "outputs": [],
   "source": [
    "ray.get([test.remote() for i in range(12)])\n",
    "# end::cluster_connect[]"
   ]
  },
  {
   "cell_type": "code",
   "execution_count": null,
   "id": "cbc0e403",
   "metadata": {},
   "outputs": [],
   "source": [
    "# tag::ray_client[]\n",
    "import ray\n",
    "ray.init(address=\"ray://localhost:10001\")\n",
    "print(ray.cluster_resources())"
   ]
  },
  {
   "cell_type": "code",
   "execution_count": null,
   "id": "ac5282dc",
   "metadata": {},
   "outputs": [],
   "source": [
    "@ray.remote\n",
    "def test():\n",
    "    return 12"
   ]
  },
  {
   "cell_type": "code",
   "execution_count": null,
   "id": "79d8839a",
   "metadata": {},
   "outputs": [],
   "source": [
    "ray.get([test.remote() for i in range(12)])\n",
    "# end::ray_client[]"
   ]
  }
 ],
 "metadata": {
  "jupytext": {
   "cell_metadata_filter": "-all",
   "main_language": "python",
   "notebook_metadata_filter": "-all"
  }
 },
 "nbformat": 4,
 "nbformat_minor": 5
}
