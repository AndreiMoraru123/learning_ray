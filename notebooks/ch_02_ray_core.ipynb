{
 "cells": [
  {
   "cell_type": "markdown",
   "id": "b15d376f",
   "metadata": {},
   "source": [
    "# Chapter 2: Getting Started with Ray Core"
   ]
  },
  {
   "cell_type": "markdown",
   "id": "4b8ec007",
   "metadata": {
    "lines_to_next_cell": 2
   },
   "source": [
    "For a book on distributed Python, it's not without a certain irony that Python on its own is\n",
    "largely ineffective for distributed computing.\n",
    "Its interpreter is effectively single threaded which makes it difficult to e.g. leverage multiple CPUs on\n",
    "the same machine, let alone a whole cluster of machines, using plain Python.\n",
    "That means you need extra tooling, and luckily the Python ecosystem has some options for you.\n",
    "For instance, libraries like `multiprocessing` can help you distribute work on a single machine, but not beyond."
   ]
  },
  {
   "cell_type": "code",
   "execution_count": null,
   "id": "3481b0c9",
   "metadata": {},
   "outputs": [],
   "source": [
    "import ray\n",
    "ray.init()"
   ]
  },
  {
   "cell_type": "code",
   "execution_count": null,
   "id": "41d79faf",
   "metadata": {},
   "outputs": [],
   "source": [
    "# tag::retrieve[]\n",
    "import time\n",
    "\n",
    "database = [  # <1>\n",
    "    \"Learning\", \"Ray\",\n",
    "    \"Flexible\", \"Distributed\", \"Python\", \"for\", \"Machine\", \"Learning\"\n",
    "]\n",
    "\n",
    "\n",
    "def retrieve(item):\n",
    "    time.sleep(item / 10.)  # <2>\n",
    "    return item, database[item]\n",
    "# end::retrieve[]"
   ]
  },
  {
   "cell_type": "code",
   "execution_count": null,
   "id": "48de3489",
   "metadata": {
    "lines_to_next_cell": 2
   },
   "outputs": [],
   "source": [
    "# tag::duration[]\n",
    "def print_runtime(input_data, start_time):\n",
    "    print(f'Runtime: {time.time() - start_time:.2f} seconds, data:')\n",
    "    print(*input_data, sep=\"\\n\")\n",
    "\n",
    "\n",
    "start = time.time()\n",
    "data = [retrieve(item) for item in range(8)]  # <1>\n",
    "print_runtime(data, start)  # <2>\n",
    "# end::duration[]"
   ]
  },
  {
   "cell_type": "code",
   "execution_count": null,
   "id": "e70366bf",
   "metadata": {},
   "outputs": [],
   "source": [
    "# tag::remote[]\n",
    "@ray.remote  # <1>\n",
    "def retrieve_task(item):\n",
    "    return retrieve(item)  # <2>\n",
    "# end::remote[]"
   ]
  },
  {
   "cell_type": "code",
   "execution_count": null,
   "id": "d5c44989",
   "metadata": {},
   "outputs": [],
   "source": [
    "# tag::duration_remote[]\n",
    "start = time.time()\n",
    "data_references = [  # <1>\n",
    "    retrieve_task.remote(item) for item in range(8)\n",
    "]\n",
    "data = ray.get(data_references)  # <2>\n",
    "print_runtime(data, start)\n",
    "# end::duration_remote[]"
   ]
  },
  {
   "cell_type": "code",
   "execution_count": null,
   "id": "660272fe",
   "metadata": {},
   "outputs": [],
   "source": [
    "# tag::object_store[]\n",
    "database_object_ref = ray.put(database)  # <1>\n",
    "\n",
    "\n",
    "@ray.remote\n",
    "def retrieve_task(item):\n",
    "    obj_store_data = ray.get(database_object_ref)  # <2>\n",
    "    time.sleep(item / 10.)\n",
    "    return item, obj_store_data[item]\n",
    "# end::object_store[]"
   ]
  },
  {
   "cell_type": "code",
   "execution_count": null,
   "id": "22061f1c",
   "metadata": {},
   "outputs": [],
   "source": [
    "# tag::duration_object_store[]\n",
    "start = time.time()\n",
    "data_references = [retrieve_task.remote(item) for item in range(8)]\n",
    "all_data = []\n",
    "\n",
    "while len(data_references) > 0:  # <1>\n",
    "    finished, data_references = ray.wait(  # <2>\n",
    "        data_references, num_returns=2, timeout=7.0\n",
    "    )\n",
    "    data = ray.get(finished)\n",
    "    print_runtime(data, start)  # <3>\n",
    "    all_data.extend(data)  # <4>\n",
    "\n",
    "# end::duration_object_store[]\n",
    "print_runtime(all_data, start)"
   ]
  },
  {
   "cell_type": "code",
   "execution_count": null,
   "id": "92faf44b",
   "metadata": {
    "lines_to_next_cell": 2
   },
   "outputs": [],
   "source": [
    "# tag::task_dependency[]\n",
    "@ray.remote\n",
    "def follow_up_task(retrieve_result):  # <1>\n",
    "    original_item, _ = retrieve_result\n",
    "    follow_up_result = retrieve(original_item + 1)  # <2>\n",
    "    return retrieve_result, follow_up_result  # <3>\n",
    "\n",
    "\n",
    "retrieve_refs = [retrieve_task.remote(item) for item in [0, 2, 4, 6]]\n",
    "follow_up_refs = [follow_up_task.remote(ref) for ref in retrieve_refs]  # <4>\n",
    "\n",
    "result = [print(data) for data in ray.get(follow_up_refs)]\n",
    "# end::task_dependency[]"
   ]
  },
  {
   "cell_type": "code",
   "execution_count": null,
   "id": "3d68e973",
   "metadata": {},
   "outputs": [],
   "source": [
    "# tag::actors[]\n",
    "@ray.remote  # <1>\n",
    "class DataTracker:\n",
    "    def __init__(self):\n",
    "        self._counts = 0\n",
    "\n",
    "    def increment(self):\n",
    "        self._counts += 1\n",
    "\n",
    "    def counts(self):\n",
    "        return self._counts\n",
    "# end::actors[]"
   ]
  },
  {
   "cell_type": "code",
   "execution_count": null,
   "id": "9a269fac",
   "metadata": {
    "lines_to_next_cell": 2
   },
   "outputs": [],
   "source": [
    "# tag::actors_remote[]\n",
    "@ray.remote\n",
    "def retrieve_tracker_task(item, tracker):  # <1>\n",
    "    obj_store_data = ray.get(database_object_ref)\n",
    "    time.sleep(item / 10.)\n",
    "    tracker.increment.remote()  # <2>\n",
    "    return item, obj_store_data[item]\n",
    "\n",
    "\n",
    "tracker = DataTracker.remote()  # <3>\n",
    "\n",
    "data_references = [  # <4>\n",
    "    retrieve_tracker_task.remote(item, tracker) for item in range(8)\n",
    "]\n",
    "data = ray.get(data_references)\n",
    "print(ray.get(tracker.counts.remote()))  # <5>\n",
    "# end::actors_remote[]"
   ]
  },
  {
   "cell_type": "code",
   "execution_count": null,
   "id": "5091ec61",
   "metadata": {},
   "outputs": [],
   "source": [
    "# tag::ownership[]\n",
    "@ray.remote\n",
    "def task_owned():\n",
    "    return\n",
    "\n",
    "\n",
    "@ray.remote\n",
    "def task(dependency):\n",
    "    res_owned = task_owned.remote()\n",
    "    return\n",
    "\n",
    "\n",
    "val = ray.put(\"value\")\n",
    "res = task.remote(dependency=val)\n",
    "# end::ownership[]"
   ]
  },
  {
   "cell_type": "markdown",
   "id": "f11a39db",
   "metadata": {
    "lines_to_next_cell": 2
   },
   "source": [
    "# ![Task dependency](https://raw.githubusercontent.com/maxpumperla/learning_ray/main/notebooks/images/chapter_02/task_dependency.png)"
   ]
  },
  {
   "cell_type": "markdown",
   "id": "ddc7295e",
   "metadata": {
    "lines_to_next_cell": 2
   },
   "source": [
    "# ![Worker Node](https://raw.githubusercontent.com/maxpumperla/learning_ray/main/notebooks/images/chapter_02/worker_node.png)"
   ]
  },
  {
   "cell_type": "markdown",
   "id": "7709aab8",
   "metadata": {},
   "source": [
    "# ![Ray architecture](https://raw.githubusercontent.com/maxpumperla/learning_ray/main/notebooks/images/chapter_02/architecture.png)"
   ]
  },
  {
   "cell_type": "code",
   "execution_count": null,
   "id": "2d032b58",
   "metadata": {},
   "outputs": [],
   "source": [
    "\n",
    "# tag::load_data[]\n",
    "import subprocess\n",
    "zen_of_python = subprocess.check_output([\"python\", \"-c\", \"import this\"])\n",
    "corpus = zen_of_python.split()  # <1>\n",
    "\n",
    "num_partitions = 3\n",
    "chunk = len(corpus) // num_partitions\n",
    "partitions = [  # <2>\n",
    "    corpus[i * chunk: (i + 1) * chunk] for i in range(num_partitions)\n",
    "]\n",
    "# end::load_data[]\n",
    "\n",
    "\n",
    "# tag::map_fct[]\n",
    "def map_function(document):\n",
    "    for word in document.lower().split():\n",
    "        yield word, 1\n",
    "# end::map_fct[]\n",
    "\n",
    "\n",
    "# tag::map[]\n",
    "import ray\n",
    "\n",
    "@ray.remote\n",
    "def apply_map(corpus, num_partitions=3):\n",
    "    map_results = [list() for _ in range(num_partitions)]  # <1>\n",
    "    for document in corpus:\n",
    "        for result in map_function(document):\n",
    "            first_letter = result[0].decode(\"utf-8\")[0]\n",
    "            word_index = ord(first_letter) % num_partitions  # <2>\n",
    "            map_results[word_index].append(result)  # <3>\n",
    "    return map_results\n",
    "# end::map[]\n",
    "\n",
    "\n",
    "# tag::apply_mr_1[]\n",
    "map_results = [\n",
    "    apply_map.options(num_returns=num_partitions)  # <1>\n",
    "    .remote(data, num_partitions)  # <2>\n",
    "    for data in partitions  # <3>\n",
    "]\n",
    "\n",
    "for i in range(num_partitions):\n",
    "    mapper_results = ray.get(map_results[i])  # <4>\n",
    "    for j, result in enumerate(mapper_results):\n",
    "        print(f\"Mapper {i}, return value {j}: {result[:2]}\")\n",
    "# end::apply_mr_1[]\n",
    "\n",
    "\n",
    "# tag::reduce[]\n",
    "@ray.remote\n",
    "def apply_reduce(*results):  # <1>\n",
    "    reduce_results = dict()\n",
    "    for res in results:\n",
    "        for key, value in res:\n",
    "            if key not in reduce_results:\n",
    "                reduce_results[key] = 0\n",
    "            reduce_results[key] += value  # <2>\n",
    "\n",
    "    return reduce_results\n",
    "# end::reduce[]\n",
    "\n",
    "\n",
    "# tag::apply_mr_2[]\n",
    "outputs = []\n",
    "for i in range(num_partitions):\n",
    "    outputs.append(  # <1>\n",
    "        apply_reduce.remote(*[partition[i] for partition in map_results])\n",
    "    )\n",
    "\n",
    "counts = {k: v for output in ray.get(outputs) for k, v in output.items()}  # <2>\n",
    "\n",
    "sorted_counts = sorted(counts.items(), key=lambda item: item[1], reverse=True)  # <3>\n",
    "for count in sorted_counts:\n",
    "    print(f\"{count[0].decode('utf-8')}: {count[1]}\")\n",
    "# end::apply_mr_2[]"
   ]
  }
 ],
 "metadata": {
  "jupytext": {
   "cell_metadata_filter": "-all",
   "main_language": "python",
   "notebook_metadata_filter": "-all"
  }
 },
 "nbformat": 4,
 "nbformat_minor": 5
}
