{
 "cells": [
  {
   "cell_type": "markdown",
   "id": "9cdddbae",
   "metadata": {},
   "source": [
    "# Chapter 2: Getting Started with Ray Core"
   ]
  },
  {
   "cell_type": "markdown",
   "id": "9c46d715",
   "metadata": {},
   "source": [
    "For a book on distributed Python, it's not without a certain irony that Python on its own is\n",
    "largely ineffective for distributed computing.\n",
    "Its interpreter is effectively single threaded which makes it difficult to e.g. leverage multiple CPUs on\n",
    "the same machine, let alone a whole cluster of machines, using plain Python.\n",
    "That means you need extra tooling, and luckily the Python ecosystem has some options for you.\n",
    "For instance, libraries like `multiprocessing` can help you distribute work on a single machine, but not beyond."
   ]
  },
  {
   "cell_type": "markdown",
   "id": "9d4d0ecd",
   "metadata": {},
   "source": [
    "\n",
    "You can run this notebook directly in\n",
    "[Colab](https://colab.research.google.com/github/maxpumperla/learning_ray/blob/main/notebooks/ch_02_ray_core.ipynb):\n",
    "<a target=\"_blank\" href=\"https://colab.research.google.com/github/maxpumperla/learning_ray/blob/main/notebooks/ch_02_ray_core.ipynb\">\n",
    "<img src=\"https://colab.research.google.com/assets/colab-badge.svg\" alt=\"Open In Colab\"/></a>\n",
    "\n",
    "The book has been written for Ray 2.2.0, which at the time of writing has not\n",
    "officially been released yet. If you are reading this and this version is already\n",
    "available, you can install it using `pip install ray==2.2.0`. If not, for this chapter\n",
    "you can simply use:"
   ]
  },
  {
   "cell_type": "code",
   "execution_count": null,
   "id": "6115afbb",
   "metadata": {},
   "outputs": [],
   "source": [
    "! pip install ray>=2.1.0"
   ]
  },
  {
   "cell_type": "markdown",
   "id": "6d655f49",
   "metadata": {},
   "source": [
    "Should you not run this notebook in Colab and need another type of wheel, please\n",
    "refer to Ray's [installation instructions for nightlies](https://docs.ray.io/en/latest/ray-overview/installation.html#install-nightlies)."
   ]
  },
  {
   "cell_type": "code",
   "execution_count": null,
   "id": "71610b30",
   "metadata": {},
   "outputs": [],
   "source": [
    "import ray\n",
    "ray.init()"
   ]
  },
  {
   "cell_type": "code",
   "execution_count": null,
   "id": "e053331e",
   "metadata": {},
   "outputs": [],
   "source": [
    "# tag::retrieve[]\n",
    "import time\n",
    "\n",
    "database = [  # <1>\n",
    "    \"Learning\", \"Ray\",\n",
    "    \"Flexible\", \"Distributed\", \"Python\", \"for\", \"Machine\", \"Learning\"\n",
    "]\n",
    "\n",
    "\n",
    "def retrieve(item):\n",
    "    time.sleep(item / 10.)  # <2>\n",
    "    return item, database[item]\n",
    "# end::retrieve[]"
   ]
  },
  {
   "cell_type": "code",
   "execution_count": null,
   "id": "b0091149",
   "metadata": {
    "lines_to_next_cell": 2
   },
   "outputs": [],
   "source": [
    "# tag::duration[]\n",
    "def print_runtime(input_data, start_time):\n",
    "    print(f'Runtime: {time.time() - start_time:.2f} seconds, data:')\n",
    "    print(*input_data, sep=\"\\n\")\n",
    "\n",
    "\n",
    "start = time.time()\n",
    "data = [retrieve(item) for item in range(8)]  # <1>\n",
    "print_runtime(data, start)  # <2>\n",
    "# end::duration[]"
   ]
  },
  {
   "cell_type": "code",
   "execution_count": null,
   "id": "1e21e7c7",
   "metadata": {},
   "outputs": [],
   "source": [
    "# tag::remote[]\n",
    "@ray.remote  # <1>\n",
    "def retrieve_task(item):\n",
    "    return retrieve(item)  # <2>\n",
    "# end::remote[]"
   ]
  },
  {
   "cell_type": "code",
   "execution_count": null,
   "id": "a34697da",
   "metadata": {},
   "outputs": [],
   "source": [
    "# tag::duration_remote[]\n",
    "start = time.time()\n",
    "object_references = [  # <1>\n",
    "    retrieve_task.remote(item) for item in range(8)\n",
    "]\n",
    "data = ray.get(object_references)  # <2>\n",
    "print_runtime(data, start)\n",
    "# end::duration_remote[]"
   ]
  },
  {
   "cell_type": "code",
   "execution_count": null,
   "id": "da66a836",
   "metadata": {},
   "outputs": [],
   "source": [
    "# tag::object_store[]\n",
    "db_object_ref = ray.put(database)  # <1>\n",
    "\n",
    "\n",
    "@ray.remote\n",
    "def retrieve_task(item, db):  # <2>\n",
    "    time.sleep(item / 10.)\n",
    "    return item, db[item]\n",
    "# end::object_store[]"
   ]
  },
  {
   "cell_type": "code",
   "execution_count": null,
   "id": "75da06ec",
   "metadata": {},
   "outputs": [],
   "source": [
    "# tag::duration_object_store[]\n",
    "start = time.time()\n",
    "object_references = [\n",
    "    retrieve_task.remote(item, db_object_ref) for item in range(8)  # <1>\n",
    "]\n",
    "all_data = []\n",
    "\n",
    "while len(object_references) > 0:  # <2>\n",
    "    finished, object_references = ray.wait(  # <3>\n",
    "        object_references, num_returns=2, timeout=7.0\n",
    "    )\n",
    "    data = ray.get(finished)\n",
    "    print_runtime(data, start)  # <4>\n",
    "    all_data.extend(data)  # <5>\n",
    "\n",
    "# end::duration_object_store[]\n",
    "print_runtime(all_data, start)"
   ]
  },
  {
   "cell_type": "code",
   "execution_count": null,
   "id": "f5734bb1",
   "metadata": {
    "lines_to_next_cell": 2
   },
   "outputs": [],
   "source": [
    "# tag::task_dependency[]\n",
    "@ray.remote\n",
    "def follow_up_task(retrieve_result):  # <1>\n",
    "    original_item, _ = retrieve_result\n",
    "    follow_up_result = retrieve(original_item + 1)  # <2>\n",
    "    return retrieve_result, follow_up_result  # <3>\n",
    "\n",
    "\n",
    "retrieve_refs = [retrieve_task.remote(item, db_object_ref) for item in [0, 2, 4, 6]]\n",
    "follow_up_refs = [follow_up_task.remote(ref) for ref in retrieve_refs]  # <4>\n",
    "\n",
    "result = [print(data) for data in ray.get(follow_up_refs)]\n",
    "# end::task_dependency[]"
   ]
  },
  {
   "cell_type": "code",
   "execution_count": null,
   "id": "717df7d0",
   "metadata": {},
   "outputs": [],
   "source": [
    "# tag::actors[]\n",
    "@ray.remote  # <1>\n",
    "class DataTracker:\n",
    "    def __init__(self):\n",
    "        self._counts = 0\n",
    "\n",
    "    def increment(self):\n",
    "        self._counts += 1\n",
    "\n",
    "    def counts(self):\n",
    "        return self._counts\n",
    "# end::actors[]"
   ]
  },
  {
   "cell_type": "code",
   "execution_count": null,
   "id": "6843b8d9",
   "metadata": {
    "lines_to_next_cell": 2
   },
   "outputs": [],
   "source": [
    "# tag::actors_remote[]\n",
    "@ray.remote\n",
    "def retrieve_tracker_task(item, tracker, db):  # <1>\n",
    "    time.sleep(item / 10.)\n",
    "    tracker.increment.remote()  # <2>\n",
    "    return item, db[item]\n",
    "\n",
    "\n",
    "tracker = DataTracker.remote()  # <3>\n",
    "\n",
    "object_references = [  # <4>\n",
    "    retrieve_tracker_task.remote(item, tracker, db_object_ref) for item in range(8)\n",
    "]\n",
    "data = ray.get(object_references)\n",
    "\n",
    "print(data)\n",
    "print(ray.get(tracker.counts.remote()))  # <5>\n",
    "# end::actors_remote[]"
   ]
  },
  {
   "cell_type": "code",
   "execution_count": null,
   "id": "b8783c35",
   "metadata": {},
   "outputs": [],
   "source": [
    "# tag::ownership[]\n",
    "@ray.remote\n",
    "def task_owned():\n",
    "    return\n",
    "\n",
    "\n",
    "@ray.remote\n",
    "def task(dependency):\n",
    "    res_owned = task_owned.remote()\n",
    "    return\n",
    "\n",
    "\n",
    "val = ray.put(\"value\")\n",
    "res = task.remote(dependency=val)\n",
    "# end::ownership[]"
   ]
  },
  {
   "cell_type": "markdown",
   "id": "d03b8e46",
   "metadata": {
    "lines_to_next_cell": 2
   },
   "source": [
    "# ![Task dependency](https://raw.githubusercontent.com/maxpumperla/learning_ray/main/notebooks/images/chapter_02/task_dependency.png)"
   ]
  },
  {
   "cell_type": "markdown",
   "id": "af38a967",
   "metadata": {
    "lines_to_next_cell": 2
   },
   "source": [
    "# ![Worker Node](https://raw.githubusercontent.com/maxpumperla/learning_ray/main/notebooks/images/chapter_02/worker_node.png)"
   ]
  },
  {
   "cell_type": "markdown",
   "id": "c78745f9",
   "metadata": {},
   "source": [
    "# ![Ray architecture](https://raw.githubusercontent.com/maxpumperla/learning_ray/main/notebooks/images/chapter_02/architecture.png)"
   ]
  },
  {
   "cell_type": "code",
   "execution_count": null,
   "id": "91c6ddc0",
   "metadata": {
    "lines_to_next_cell": 2
   },
   "outputs": [],
   "source": [
    "# tag::load_data[]\n",
    "import subprocess\n",
    "zen_of_python = subprocess.check_output([\"python\", \"-c\", \"import this\"])\n",
    "corpus = zen_of_python.split()  # <1>\n",
    "\n",
    "num_partitions = 3\n",
    "chunk = len(corpus) // num_partitions\n",
    "partitions = [  # <2>\n",
    "    corpus[i * chunk: (i + 1) * chunk] for i in range(num_partitions)\n",
    "]\n",
    "# end::load_data[]"
   ]
  },
  {
   "cell_type": "code",
   "execution_count": null,
   "id": "742193e2",
   "metadata": {},
   "outputs": [],
   "source": [
    "# tag::map_fct[]\n",
    "def map_function(document):\n",
    "    for word in document.lower().split():\n",
    "        yield word, 1\n",
    "# end::map_fct[]"
   ]
  },
  {
   "cell_type": "code",
   "execution_count": null,
   "id": "a2fed469",
   "metadata": {},
   "outputs": [],
   "source": [
    "# tag::map[]\n",
    "import ray\n",
    "\n",
    "@ray.remote\n",
    "def apply_map(corpus, num_partitions=3):\n",
    "    map_results = [list() for _ in range(num_partitions)]  # <1>\n",
    "    for document in corpus:\n",
    "        for result in map_function(document):\n",
    "            first_letter = result[0].decode(\"utf-8\")[0]\n",
    "            word_index = ord(first_letter) % num_partitions  # <2>\n",
    "            map_results[word_index].append(result)  # <3>\n",
    "    return map_results\n",
    "# end::map[]"
   ]
  },
  {
   "cell_type": "code",
   "execution_count": null,
   "id": "360b19b8",
   "metadata": {
    "lines_to_next_cell": 2
   },
   "outputs": [],
   "source": [
    "# tag::apply_mr_1[]\n",
    "map_results = [\n",
    "    apply_map.options(num_returns=num_partitions)  # <1>\n",
    "    .remote(data, num_partitions)  # <2>\n",
    "    for data in partitions  # <3>\n",
    "]\n",
    "\n",
    "for i in range(num_partitions):\n",
    "    mapper_results = ray.get(map_results[i])  # <4>\n",
    "    for j, result in enumerate(mapper_results):\n",
    "        print(f\"Mapper {i}, return value {j}: {result[:2]}\")\n",
    "# end::apply_mr_1[]"
   ]
  },
  {
   "cell_type": "code",
   "execution_count": null,
   "id": "5891b2c3",
   "metadata": {},
   "outputs": [],
   "source": [
    "# tag::reduce[]\n",
    "@ray.remote\n",
    "def apply_reduce(*results):  # <1>\n",
    "    reduce_results = dict()\n",
    "    for res in results:\n",
    "        for key, value in res:\n",
    "            if key not in reduce_results:\n",
    "                reduce_results[key] = 0\n",
    "            reduce_results[key] += value  # <2>\n",
    "\n",
    "    return reduce_results\n",
    "# end::reduce[]"
   ]
  },
  {
   "cell_type": "code",
   "execution_count": null,
   "id": "a395a7f9",
   "metadata": {},
   "outputs": [],
   "source": [
    "# tag::apply_mr_2[]\n",
    "outputs = []\n",
    "for i in range(num_partitions):\n",
    "    outputs.append(  # <1>\n",
    "        apply_reduce.remote(*[partition[i] for partition in map_results])\n",
    "    )\n",
    "\n",
    "counts = {k: v for output in ray.get(outputs) for k, v in output.items()}  # <2>\n",
    "\n",
    "sorted_counts = sorted(counts.items(), key=lambda item: item[1], reverse=True)  # <3>\n",
    "for count in sorted_counts:\n",
    "    print(f\"{count[0].decode('utf-8')}: {count[1]}\")\n",
    "# end::apply_mr_2[]"
   ]
  }
 ],
 "metadata": {
  "jupytext": {
   "cell_metadata_filter": "-all",
   "main_language": "python",
   "notebook_metadata_filter": "-all"
  }
 },
 "nbformat": 4,
 "nbformat_minor": 5
}
